{
 "cells": [
  {
   "cell_type": "code",
   "execution_count": 1,
   "metadata": {},
   "outputs": [],
   "source": [
    "import requests\n",
    "from bs4 import BeautifulSoup\n",
    "import smtplib\n",
    "import time"
   ]
  },
  {
   "cell_type": "code",
   "execution_count": 2,
   "metadata": {},
   "outputs": [],
   "source": [
    "URL='https://www.amazon.in/Nikon-D5600-Digital-Camera-18-55mm/dp/B01N6H41JP/ref=sr_1_8?keywords=dslr&qid=1574795729&sr=8-8'"
   ]
  },
  {
   "cell_type": "code",
   "execution_count": 3,
   "metadata": {},
   "outputs": [],
   "source": [
    "#seach for my user agent on google to look for your user agent and create headers to make calls\n",
    "\n",
    "headers ={\"User-Agent\":'Mozilla/5.0 (Windows NT 10.0; Win64; x64) AppleWebKit/537.36 (KHTML, like Gecko) Chrome/78.0.3904.108 Safari/537.36'\n",
    "    \n",
    "        }\n",
    "\n"
   ]
  },
  {
   "cell_type": "code",
   "execution_count": 4,
   "metadata": {},
   "outputs": [],
   "source": [
    "\n",
    "def check_price():\n",
    "    page = requests.get(URL, headers=headers)\n",
    "    soup = BeautifulSoup(page.content, 'lxml')\n",
    "    title = soup.find(id=\"productTitle\").get_text()\n",
    "    price = soup.find(id=\"priceblock_ourprice\").get_text()\n",
    "    price = price.replace(\"₹\", \" \")\n",
    "    price = price.replace(\",\", \"\")\n",
    "\n",
    "    converted_price = float(price[1:8])\n",
    "    print(converted_price)\n",
    "\n",
    "    if (converted_price < 100000.0):\n",
    "        send_mail()\n",
    "\n",
    "    print(title.strip())\n",
    "\n",
    "    if (converted_price > 44999.0):\n",
    "        send_mail()\n"
   ]
  },
  {
   "cell_type": "code",
   "execution_count": 5,
   "metadata": {},
   "outputs": [],
   "source": [
    "#pull indic=vidual peices of info print(soup.prettify())"
   ]
  },
  {
   "cell_type": "code",
   "execution_count": 6,
   "metadata": {},
   "outputs": [],
   "source": [
    "def send_mail():\n",
    "    server = smtplib.SMTP('smtp.gmail.com', 587)  #google smtp and connection number\n",
    "    server.ehlo()               #comand sent to email server to identify itself when connecting to another email.\n",
    "    server.starttls()           #encrypts connection\n",
    "    server.ehlo()\n",
    "\n",
    "    server.login('prajuaa0321@gmail.com', 'odzjybwvdsvlmlgf')\n",
    "\n",
    "    subject = \"Go check the product gareeb\"\n",
    "    #body = #Bitch ths is the price tracker i build using web scrapping technique\\n if ok we can use it and rest of the message is email\\n\\n\n",
    "    body='So, the prices are down . itjust go check it out and cry on how broke u are \\n Here is the link \\n \\n https://www.amazon.in/Test-Exclusive-603/dp/B07HG8SBDV/ref=sr_1_3?crid=2XR1I6U19V2SK&keywords=one+plus7pro&qid=1565862253&s=electronics&smid=A35FCS7U51TK3C&sprefix=one+plu%2Celectronics%2C419&sr=1-3'\n",
    "\n",
    "    msg = f\"Subject: {subject} \\n\\n {body}\"  #f to interpret subject\n",
    "\n",
    "    server.sendmail(\n",
    "        'prajuaa0321@gmail.com ',\n",
    "        'srishtivashishth625@gmail.com',\n",
    "        msg\n",
    "    )\n",
    "\n",
    "    print(\"Email has been sent\")\n",
    "\n",
    "    server.quit()"
   ]
  },
  {
   "cell_type": "code",
   "execution_count": null,
   "metadata": {},
   "outputs": [
    {
     "name": "stdout",
     "output_type": "stream",
     "text": [
      "39490.0\n",
      "Email has been sent\n",
      "Nikon D5600 Digital Camera 18-55mm VR Kit (Black)\n"
     ]
    }
   ],
   "source": [
    "while(True):\n",
    "    check_price()\n",
    "    time.sleep(3600)\n"
   ]
  },
  {
   "cell_type": "code",
   "execution_count": null,
   "metadata": {},
   "outputs": [],
   "source": []
  }
 ],
 "metadata": {
  "kernelspec": {
   "display_name": "Python 3",
   "language": "python",
   "name": "python3"
  },
  "language_info": {
   "codemirror_mode": {
    "name": "ipython",
    "version": 3
   },
   "file_extension": ".py",
   "mimetype": "text/x-python",
   "name": "python",
   "nbconvert_exporter": "python",
   "pygments_lexer": "ipython3",
   "version": "3.6.4"
  }
 },
 "nbformat": 4,
 "nbformat_minor": 2
}
